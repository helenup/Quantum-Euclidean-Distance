{
 "cells": [
  {
   "cell_type": "markdown",
   "id": "0aa803ac",
   "metadata": {},
   "source": [
    "## Swap-Test Operator "
   ]
  },
  {
   "cell_type": "code",
   "execution_count": 1,
   "id": "3062c9cd",
   "metadata": {},
   "outputs": [],
   "source": [
    "from qiskit import *\n",
    "from qiskit import BasicAer\n",
    "from qiskit import QuantumCircuit, ClassicalRegister, QuantumRegister, execute"
   ]
  },
  {
   "cell_type": "markdown",
   "id": "68dccd27",
   "metadata": {},
   "source": [
    "### Quantum Circuit "
   ]
  },
  {
   "cell_type": "code",
   "execution_count": 2,
   "id": "d02733e4",
   "metadata": {},
   "outputs": [
    {
     "data": {
      "image/png": "[encoded data removed]",
      "text/plain": [
       "<Figure size 422.212x264.88 with 1 Axes>"
      ]
     },
     "metadata": {},
     "output_type": "display_data"
    }
   ],
   "source": [
    "qreg = QuantumRegister(3, 'qreg')\n",
    "creg = ClassicalRegister(3, 'creg')\n",
    "qc = QuantumCircuit (qreg, creg)\n",
    "\n",
    "\n",
    "# Initial state |01>\n",
    "qc.x(qreg[1])\n",
    "\n",
    "#swap_test\n",
    "qc.h(qreg[0]) #Apply superposition on the ancilla qubit \n",
    "qc.cswap( qreg[0], qreg[1], qreg[2] )\n",
    "qc.h(qreg[0])\n",
    "\n",
    "qc.barrier()\n",
    "qc.measure(qreg[0], creg[0])\n",
    "\n",
    "display(qc.draw(output=\"mpl\"))"
   ]
  },
  {
   "cell_type": "code",
   "execution_count": 3,
   "id": "5e018fdc",
   "metadata": {},
   "outputs": [
    {
     "name": "stdout",
     "output_type": "stream",
     "text": [
      "{'001': 493, '000': 531}\n"
     ]
    }
   ],
   "source": [
    "#Result \n",
    "shots = 1024\n",
    "job = execute(qc,Aer.get_backend('qasm_simulator'),shots=shots)\n",
    "job_result = job.result()\n",
    "counts = job_result.get_counts(qc)\n",
    "print(counts)"
   ]
  },
  {
   "cell_type": "code",
   "execution_count": 4,
   "id": "2ce59082",
   "metadata": {},
   "outputs": [],
   "source": [
    "# The results agree with the swap test function, where if the P|0> = 0.5 on the ancilla(control) qubit \n",
    "#means the states are orthogonal, and if the P|0>=1 indicates the states are identical. "
   ]
  }
 ],
 "metadata": {
  "kernelspec": {
   "display_name": "Python 3",
   "language": "python",
   "name": "python3"
  },
  "language_info": {
   "codemirror_mode": {
    "name": "ipython",
    "version": 3
   },
   "file_extension": ".py",
   "mimetype": "text/x-python",
   "name": "python",
   "nbconvert_exporter": "python",
   "pygments_lexer": "ipython3",
   "version": "3.8.8"
  }
 },
 "nbformat": 4,
 "nbformat_minor": 5
}
