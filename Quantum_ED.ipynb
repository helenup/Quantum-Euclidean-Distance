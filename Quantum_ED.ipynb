{
 "cells": [
  {
   "cell_type": "markdown",
   "id": "376326bb",
   "metadata": {},
   "source": [
    "## Quantum Euclidean Distance"
   ]
  },
  {
   "cell_type": "code",
   "execution_count": 1,
   "id": "c5d8bbe4",
   "metadata": {},
   "outputs": [],
   "source": [
    "# import the necessary libraries \n",
    "import math as m\n",
    "from qiskit import *\n",
    "from qiskit import BasicAer\n",
    "from qiskit import QuantumCircuit, ClassicalRegister, QuantumRegister, execute"
   ]
  },
  {
   "cell_type": "markdown",
   "id": "45180420",
   "metadata": {},
   "source": [
    "### Data preparation"
   ]
  },
  {
   "cell_type": "code",
   "execution_count": 2,
   "id": "a1b197f2",
   "metadata": {},
   "outputs": [],
   "source": [
    "# First step is to encode the data into quantum states. \n",
    "#There are some techniques to do it, in this case Amplitude embedding was used.\n",
    "\n",
    "A = [2,9,8,5]\n",
    "B = [7,5,10,3]\n",
    "\n",
    "norm_A = 0\n",
    "norm_B = 0\n",
    "Dist = 0\n",
    "\n",
    "for i in range(len(A)):\n",
    "    norm_A += A[i]**2\n",
    "    norm_B += B[i]**2\n",
    "    Dist += (A[i]-B[i])**2\n",
    "\n",
    "Dist = m.sqrt(Dist)\n",
    "A_norm = m.sqrt(norm_A)\n",
    "B_norm = m.sqrt(norm_B)\n",
    "Z = round( A_norm**2 + B_norm**2 )\n",
    " \n",
    "# create phi and psi state with the data    \n",
    "phi = [A_norm/m.sqrt(Z),-B_norm/m.sqrt(Z)]\n",
    "psi = []\n",
    "for i in range(len(A)):\n",
    "    psi.append(((A[i]/A_norm) /m.sqrt(2)))\n",
    "    psi.append(((B[i]/B_norm) /m.sqrt(2)))"
   ]
  },
  {
   "cell_type": "markdown",
   "id": "c9d5f192",
   "metadata": {},
   "source": [
    " ###  Quantum Circuit\n",
    "\n",
    "\n"
   ]
  },
  {
   "cell_type": "code",
   "execution_count": 3,
   "id": "1d4ff71c",
   "metadata": {},
   "outputs": [
    {
     "data": {
      "image/png": "[encoded data removed]",
      "text/plain": [
       "<Figure size 641.669x385.28 with 1 Axes>"
      ]
     },
     "metadata": {},
     "output_type": "display_data"
    }
   ],
   "source": [
    "# Quantum Circuit\n",
    "q1 = QuantumRegister(1,name='q1')\n",
    "q2 = QuantumRegister(4,name='q2')\n",
    "c = ClassicalRegister(1,name='c')\n",
    "qc= QuantumCircuit(q1,q2,c)\n",
    "\n",
    "# states initialization\n",
    "qc.initialize( phi, q2[0] )\n",
    "qc.initialize( psi, q2[1:4] )\n",
    "\n",
    "# The swap test operator \n",
    "qc.h( q1[0] )\n",
    "qc.cswap( q1[0], q2[0], q2[1] )\n",
    "qc.h( q1[0] )\n",
    "qc.measure(q1,c)\n",
    "\n",
    "display(qc.draw(output=\"mpl\"))"
   ]
  },
  {
   "cell_type": "code",
   "execution_count": 4,
   "id": "ec770f98",
   "metadata": {},
   "outputs": [
    {
     "name": "stdout",
     "output_type": "stream",
     "text": [
      "Quantum Distance:  7.19\n",
      "Euclidean Distance:  7.0\n"
     ]
    }
   ],
   "source": [
    "## Results\n",
    "shots = 10000\n",
    "job = execute(qc,Aer.get_backend('qasm_simulator'),shots=shots)\n",
    "job_result = job.result()\n",
    "counts = job_result.get_counts(qc)\n",
    "x = abs(((counts['0']/shots - 0.5)/0.5)*2*Z)\n",
    "Q_Dist = round(m.sqrt(x),4)\n",
    "print('Quantum Distance: ', round(Q_Dist,3))    \n",
    "print('Euclidean Distance: ',round(Dist,3))   "
   ]
  },
  {
   "cell_type": "code",
   "execution_count": null,
   "id": "d7d12250",
   "metadata": {},
   "outputs": [],
   "source": []
  }
 ],
 "metadata": {
  "kernelspec": {
   "display_name": "Python 3 (ipykernel)",
   "language": "python",
   "name": "python3"
  },
  "language_info": {
   "codemirror_mode": {
    "name": "ipython",
    "version": 3
   },
   "file_extension": ".py",
   "mimetype": "text/x-python",
   "name": "python",
   "nbconvert_exporter": "python",
   "pygments_lexer": "ipython3",
   "version": "3.8.11"
  }
 },
 "nbformat": 4,
 "nbformat_minor": 5
}
